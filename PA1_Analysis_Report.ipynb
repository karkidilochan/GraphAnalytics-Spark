{
 "cells": [
  {
   "cell_type": "code",
   "execution_count": 1,
   "metadata": {},
   "outputs": [
    {
     "name": "stderr",
     "output_type": "stream",
     "text": [
      "C:\\Users\\diloc\\anaconda3\\lib\\site-packages\\pandas\\core\\computation\\expressions.py:20: UserWarning: Pandas requires version '2.7.3' or newer of 'numexpr' (version '2.7.1' currently installed).\n",
      "  from pandas.core.computation.check import NUMEXPR_INSTALLED\n"
     ]
    }
   ],
   "source": [
    "import pandas as pd\n",
    "import matplotlib.pyplot as plt\n",
    "import numpy as np"
   ]
  },
  {
   "cell_type": "code",
   "execution_count": 17,
   "metadata": {},
   "outputs": [
    {
     "data": {
      "text/html": [
       "<div>\n",
       "<style scoped>\n",
       "    .dataframe tbody tr th:only-of-type {\n",
       "        vertical-align: middle;\n",
       "    }\n",
       "\n",
       "    .dataframe tbody tr th {\n",
       "        vertical-align: top;\n",
       "    }\n",
       "\n",
       "    .dataframe thead th {\n",
       "        text-align: right;\n",
       "    }\n",
       "</style>\n",
       "<table border=\"1\" class=\"dataframe\">\n",
       "  <thead>\n",
       "    <tr style=\"text-align: right;\">\n",
       "      <th></th>\n",
       "      <th>Year</th>\n",
       "      <th>Publications</th>\n",
       "      <th>Citations</th>\n",
       "    </tr>\n",
       "  </thead>\n",
       "  <tbody>\n",
       "    <tr>\n",
       "      <th>0</th>\n",
       "      <td>1992</td>\n",
       "      <td>850</td>\n",
       "      <td>202</td>\n",
       "    </tr>\n",
       "    <tr>\n",
       "      <th>1</th>\n",
       "      <td>1993</td>\n",
       "      <td>2826</td>\n",
       "      <td>2024</td>\n",
       "    </tr>\n",
       "    <tr>\n",
       "      <th>2</th>\n",
       "      <td>1994</td>\n",
       "      <td>5689</td>\n",
       "      <td>7963</td>\n",
       "    </tr>\n",
       "    <tr>\n",
       "      <th>3</th>\n",
       "      <td>1995</td>\n",
       "      <td>9069</td>\n",
       "      <td>20193</td>\n",
       "    </tr>\n",
       "    <tr>\n",
       "      <th>4</th>\n",
       "      <td>1996</td>\n",
       "      <td>12930</td>\n",
       "      <td>40913</td>\n",
       "    </tr>\n",
       "    <tr>\n",
       "      <th>5</th>\n",
       "      <td>1997</td>\n",
       "      <td>17116</td>\n",
       "      <td>72033</td>\n",
       "    </tr>\n",
       "    <tr>\n",
       "      <th>6</th>\n",
       "      <td>1998</td>\n",
       "      <td>21716</td>\n",
       "      <td>115950</td>\n",
       "    </tr>\n",
       "    <tr>\n",
       "      <th>7</th>\n",
       "      <td>1999</td>\n",
       "      <td>26631</td>\n",
       "      <td>174337</td>\n",
       "    </tr>\n",
       "    <tr>\n",
       "      <th>8</th>\n",
       "      <td>2000</td>\n",
       "      <td>31707</td>\n",
       "      <td>246541</td>\n",
       "    </tr>\n",
       "    <tr>\n",
       "      <th>9</th>\n",
       "      <td>2001</td>\n",
       "      <td>36765</td>\n",
       "      <td>331753</td>\n",
       "    </tr>\n",
       "    <tr>\n",
       "      <th>10</th>\n",
       "      <td>2002</td>\n",
       "      <td>37621</td>\n",
       "      <td>347267</td>\n",
       "    </tr>\n",
       "  </tbody>\n",
       "</table>\n",
       "</div>"
      ],
      "text/plain": [
       "    Year  Publications  Citations\n",
       "0   1992           850        202\n",
       "1   1993          2826       2024\n",
       "2   1994          5689       7963\n",
       "3   1995          9069      20193\n",
       "4   1996         12930      40913\n",
       "5   1997         17116      72033\n",
       "6   1998         21716     115950\n",
       "7   1999         26631     174337\n",
       "8   2000         31707     246541\n",
       "9   2001         36765     331753\n",
       "10  2002         37621     347267"
      ]
     },
     "execution_count": 17,
     "metadata": {},
     "output_type": "execute_result"
    }
   ],
   "source": [
    "data = pd.read_csv('edges_vs_nodes.csv')\n",
    "data"
   ]
  },
  {
   "cell_type": "code",
   "execution_count": 19,
   "metadata": {},
   "outputs": [],
   "source": [
    "years = data['Year']\n",
    "publications = data['Publications']\n",
    "citations = data['Citations']\n",
    "\n",
    "log_publications = np.log10(publications)\n",
    "log_citations = np.log10(citations)"
   ]
  },
  {
   "cell_type": "code",
   "execution_count": 20,
   "metadata": {},
   "outputs": [
    {
     "data": {
      "image/png": "[encoded data removed]",
      "text/plain": [
       "<Figure size 576x432 with 1 Axes>"
      ]
     },
     "metadata": {
      "needs_background": "light"
     },
     "output_type": "display_data"
    }
   ],
   "source": [
    "plt.figure(figsize=(8, 6))\n",
    "plt.scatter(log_publications, log_citations)\n",
    "plt.title('Log-Log Plot of Nodes vs Edges')\n",
    "plt.xlabel('Number of Nodes')\n",
    "plt.ylabel('Number of Edges')\n",
    "# plt.grid(True)\n",
    "plt.xticks(log_publications)\n",
    "plt.yticks(log_citations)\n",
    "\n",
    "for i, year in enumerate(years):\n",
    "    plt.text(log_publications[i], log_citations[i], str(year), fontsize=12, ha='right')\n",
    "\n",
    "plt.show()"
   ]
  },
  {
   "cell_type": "markdown",
   "metadata": {},
   "source": [
    "# Analysis Report\n",
    "\n",
    "The above plots do correspond to the exponent in the densification law. As the number of nodes increased over time, it can be observed that a proportional growth occurred in the number of edges, which aligns with the densification power law. This is evidenced by the plots that exhibit a exponential relationship between the number of edges and the number of nodes, rather than a linear trend.\n",
    "\n",
    "The densification power law suggests that as networks evolve temporally, they tend to become denser at a rate that follows a power law, indicating a nonlinear growth pattern. In my case, as the network grew larger with an increasing number of nodes, the number of connections (edges) between those nodes grew at a faster-than-linear rate, demonstrating \"densification\".\n",
    "\n",
    "The densification power law also explains underlying mechanisms such as preferential attachment where newer nodes are more likely to connect to existing nodes with more connections. This can also be observed in he above plots, as there are more edges with the number of nodes over time. \n"
   ]
  }
 ],
 "metadata": {
  "kernelspec": {
   "display_name": "Python 3",
   "language": "python",
   "name": "python3"
  },
  "language_info": {
   "codemirror_mode": {
    "name": "ipython",
    "version": 3
   },
   "file_extension": ".py",
   "mimetype": "text/x-python",
   "name": "python",
   "nbconvert_exporter": "python",
   "pygments_lexer": "ipython3",
   "version": "3.8.3"
  }
 },
 "nbformat": 4,
 "nbformat_minor": 4
}
